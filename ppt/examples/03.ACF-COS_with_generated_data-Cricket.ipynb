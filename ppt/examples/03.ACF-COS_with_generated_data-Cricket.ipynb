{
 "cells": [
  {
   "cell_type": "markdown",
   "metadata": {},
   "source": []
  },
  {
   "cell_type": "code",
   "execution_count": 1,
   "metadata": {},
   "outputs": [],
   "source": [
    "import pickle\n",
    "import numpy as np\n",
    "import pandas as pd\n",
    "from ppt.metric import ACF_COS"
   ]
  },
  {
   "cell_type": "code",
   "execution_count": 2,
   "metadata": {},
   "outputs": [],
   "source": [
    "patch_len = 30\n",
    "permute_freq = 40\n",
    "\n",
    "original_data = pickle.load(open('./dataset/Cricket/test_dict.pkl', 'rb'))\n",
    "permuted_data = pickle.load(open(f'./dataset/Cricket/permute_testdata/random_patchlen_{patch_len:03d}_permf_{permute_freq:02d}.pkl', 'rb'))\n",
    "\n",
    "original_data = np.array([value for key, value in original_data.items()])\n",
    "permuted_data = np.array([value for key, value in permuted_data.items()])\n",
    "\n",
    "original_data = original_data.transpose(0, 2, 1)\n",
    "permuted_data = permuted_data.transpose(0, 2, 1)\n",
    "\n",
    "seq_len = original_data.shape[2]\n",
    "channel_num = original_data.shape[1]\n"
   ]
  },
  {
   "cell_type": "code",
   "execution_count": 3,
   "metadata": {},
   "outputs": [
    {
     "name": "stdout",
     "output_type": "stream",
     "text": [
      "Creating permutation tensor at shuffled_index/shuffled_index_random_40_30_06_39.pt, with strategy random, frequency 40, and patch length 30\n"
     ]
    },
    {
     "name": "stderr",
     "output_type": "stream",
     "text": [
      "/home/kwangryeol/playground/PPT_PIP/ppt/metric.py:45: UserWarning: original_time_len 1197 must be divisible by patch_len 30. Truncating the data to 1170\n",
      "  warnings.warn(f\"original_time_len {original_time_len} must be divisible by patch_len {patch_len}. Truncating the data to {original_time_len // patch_len * patch_len}\")\n"
     ]
    },
    {
     "data": {
      "application/vnd.jupyter.widget-view+json": {
       "model_id": "da1fa337c03f43f3a2bb0806e27e21b2",
       "version_major": 2,
       "version_minor": 0
      },
      "text/plain": [
       "Creating permutation tensor:   0%|          | 0/1000 [00:00<?, ?it/s]"
      ]
     },
     "metadata": {},
     "output_type": "display_data"
    }
   ],
   "source": [
    "\n",
    "metric = ACF_COS(\n",
    "    channel_num=channel_num,\n",
    "    original_time_len=seq_len,\n",
    "    patch_len=patch_len,\n",
    "    permute_freq=permute_freq,\n",
    "    device='cuda',\n",
    "    permute_tensor_size=1000\n",
    ")\n",
    "\n",
    "cos_acf = []\n",
    "cos_acf.append(metric(original_data, permuted_data))\n",
    "    \n",
    "cos_acf = np.array(cos_acf).reshape(-1)"
   ]
  },
  {
   "cell_type": "code",
   "execution_count": 5,
   "metadata": {},
   "outputs": [
    {
     "name": "stdout",
     "output_type": "stream",
     "text": [
      "30 | 40: 0.57\n"
     ]
    }
   ],
   "source": [
    "mean = np.mean(cos_acf)\n",
    "std = np.std(cos_acf)\n",
    "mean_acf = np.mean(cos_acf)\n",
    "print(f'{patch_len:d} | {permute_freq:d}: {mean_acf:.2f}')\n"
   ]
  }
 ],
 "metadata": {
  "kernelspec": {
   "display_name": "Python 3",
   "language": "python",
   "name": "python3"
  },
  "language_info": {
   "codemirror_mode": {
    "name": "ipython",
    "version": 3
   },
   "file_extension": ".py",
   "mimetype": "text/x-python",
   "name": "python",
   "nbconvert_exporter": "python",
   "pygments_lexer": "ipython3",
   "version": "3.10.12"
  }
 },
 "nbformat": 4,
 "nbformat_minor": 2
}
