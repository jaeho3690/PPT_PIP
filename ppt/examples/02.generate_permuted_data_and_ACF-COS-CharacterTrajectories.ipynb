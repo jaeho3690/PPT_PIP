{
 "cells": [
  {
   "cell_type": "markdown",
   "metadata": {},
   "source": []
  },
  {
   "cell_type": "code",
   "execution_count": 1,
   "metadata": {},
   "outputs": [
    {
     "name": "stdout",
     "output_type": "stream",
     "text": [
      "Defaulting to user installation because normal site-packages is not writeable\n",
      "Requirement already satisfied: scikit-learn in /home/kwangryeol/.local/lib/python3.10/site-packages (1.6.1)\n",
      "Requirement already satisfied: sktime in /home/kwangryeol/.local/lib/python3.10/site-packages (0.36.0)\n",
      "Requirement already satisfied: threadpoolctl>=3.1.0 in /home/kwangryeol/.local/lib/python3.10/site-packages (from scikit-learn) (3.6.0)\n",
      "Requirement already satisfied: scipy>=1.6.0 in /home/kwangryeol/.local/lib/python3.10/site-packages (from scikit-learn) (1.15.2)\n",
      "Requirement already satisfied: numpy>=1.19.5 in /home/kwangryeol/.local/lib/python3.10/site-packages (from scikit-learn) (1.26.4)\n",
      "Requirement already satisfied: joblib>=1.2.0 in /home/kwangryeol/.local/lib/python3.10/site-packages (from scikit-learn) (1.4.2)\n",
      "Requirement already satisfied: scikit-base<0.13.0,>=0.6.1 in /home/kwangryeol/.local/lib/python3.10/site-packages (from sktime) (0.12.0)\n",
      "Requirement already satisfied: pandas<2.3.0,>=1.1 in /home/kwangryeol/.local/lib/python3.10/site-packages (from sktime) (2.2.3)\n",
      "Requirement already satisfied: packaging in /home/kwangryeol/.local/lib/python3.10/site-packages (from sktime) (24.2)\n",
      "Requirement already satisfied: pytz>=2020.1 in /usr/lib/python3/dist-packages (from pandas<2.3.0,>=1.1->sktime) (2022.1)\n",
      "Requirement already satisfied: tzdata>=2022.7 in /home/kwangryeol/.local/lib/python3.10/site-packages (from pandas<2.3.0,>=1.1->sktime) (2025.1)\n",
      "Requirement already satisfied: python-dateutil>=2.8.2 in /home/kwangryeol/.local/lib/python3.10/site-packages (from pandas<2.3.0,>=1.1->sktime) (2.9.0.post0)\n",
      "Requirement already satisfied: six>=1.5 in /usr/lib/python3/dist-packages (from python-dateutil>=2.8.2->pandas<2.3.0,>=1.1->sktime) (1.16.0)\n"
     ]
    }
   ],
   "source": [
    "import os\n",
    "os.system('pip install scikit-learn sktime')\n",
    "import numpy as np\n",
    "from sktime.datasets import load_UCR_UEA_dataset, load_from_tsfile\n",
    "from sklearn.preprocessing import StandardScaler\n",
    "from ppt.metric import ACF_COS"
   ]
  },
  {
   "cell_type": "code",
   "execution_count": 2,
   "metadata": {},
   "outputs": [],
   "source": [
    "def extract_data(data, label):\n",
    "    res_data = []\n",
    "    res_labels = []\n",
    "    unique_label = np.unique(label)\n",
    "    label_map = {label: i for i, label in enumerate(unique_label)}\n",
    "    for index in range(0, len(data)):\n",
    "        t_data = np.array([ d.tolist() for d in data.iloc[index]])\n",
    "        t_label = label_map[label[index]]\n",
    "        res_data.append(t_data)\n",
    "        res_labels.append(t_label)\n",
    "    return np.array(res_data).swapaxes(1, 2), np.array(res_labels)"
   ]
  },
  {
   "cell_type": "code",
   "execution_count": 3,
   "metadata": {},
   "outputs": [
    {
     "name": "stdout",
     "output_type": "stream",
     "text": [
      "Train X shape: (1422, 119, 3)\n",
      "Train y shape: (1422,)\n",
      "Test X shape: (1436, 119, 3)\n",
      "Test y shape: (1436,)\n",
      "test_X shape:  (1436, 3, 120)\n"
     ]
    }
   ],
   "source": [
    "train_raw_X, train_raw_y = load_from_tsfile(os.path.join('./dataset/CharacterTrajectories/CharacterTrajectories_eq_TRAIN.ts'))\n",
    "test_raw_X, test_raw_y = load_from_tsfile(os.path.join('./dataset/CharacterTrajectories/CharacterTrajectories_eq_TEST.ts'))\n",
    "\n",
    "train_X, train_y = extract_data(train_raw_X, train_raw_y)\n",
    "test_X, test_y = extract_data(test_raw_X, test_raw_y)\n",
    "\n",
    "print(f\"Train X shape: {train_X.shape}\")\n",
    "print(f\"Train y shape: {train_y.shape}\")\n",
    "print(f\"Test X shape: {test_X.shape}\")\n",
    "print(f\"Test y shape: {test_y.shape}\")\n",
    "\n",
    "scaler = StandardScaler()\n",
    "scaler.fit(train_X.reshape(-1, train_X.shape[-1]))\n",
    "train_X = scaler.transform(train_X.reshape(-1, train_X.shape[-1])).reshape(train_X.shape)\n",
    "test_X = scaler.transform(test_X.reshape(-1, test_X.shape[-1])).reshape(test_X.shape)\n",
    "\n",
    "# repeat the last element in sequence to make the sequence length 120. \n",
    "# train_X: (1422, 119, 3) -> (1422, 120, 3)\n",
    "# test_X: (1436, 119, 3) -> (1436, 120, 3)\n",
    "# this is only for CharacterTrajectories dataset \n",
    "train_X = np.concatenate([train_X, np.repeat(train_X[:, -1:, :], 1, axis=1)], axis=1)\n",
    "test_X = np.concatenate([test_X, np.repeat(test_X[:, -1:, :], 1, axis=1)], axis=1)\n",
    "\n",
    "\n",
    "train_X = train_X.transpose(0, 2, 1)\n",
    "test_X = test_X.transpose(0, 2, 1)\n",
    "# test_X = test_X[0: 1, 0: 2, :12]\n",
    "\n",
    "seq_len = test_X.shape[2]\n",
    "num_channels = test_X.shape[1]\n",
    "\n",
    "print(\"test_X shape: \", test_X.shape)"
   ]
  },
  {
   "cell_type": "code",
   "execution_count": 4,
   "metadata": {},
   "outputs": [
    {
     "name": "stdout",
     "output_type": "stream",
     "text": [
      "Creating permutation tensor at shuffled_index/shuffled_index_random_10_3_03_40.pt, with strategy random, frequency 10, and patch length 3\n"
     ]
    },
    {
     "data": {
      "application/vnd.jupyter.widget-view+json": {
       "model_id": "0fa559aa8edb46ee890ed60dd571535a",
       "version_major": 2,
       "version_minor": 0
      },
      "text/plain": [
       "Creating permutation tensor:   0%|          | 0/1000 [00:00<?, ?it/s]"
      ]
     },
     "metadata": {},
     "output_type": "display_data"
    },
    {
     "name": "stdout",
     "output_type": "stream",
     "text": [
      "Input ACF-COS data is 3D (Batch, Channel, Time), trying to spilt the Time dimension into (Patch Length, Patch Number)\n",
      "3 | 10: 0.22\n",
      "Creating permutation tensor at shuffled_index/shuffled_index_random_20_3_03_40.pt, with strategy random, frequency 20, and patch length 3\n"
     ]
    },
    {
     "data": {
      "application/vnd.jupyter.widget-view+json": {
       "model_id": "c3dde86325874bcd907e6833d612ac93",
       "version_major": 2,
       "version_minor": 0
      },
      "text/plain": [
       "Creating permutation tensor:   0%|          | 0/1000 [00:00<?, ?it/s]"
      ]
     },
     "metadata": {},
     "output_type": "display_data"
    },
    {
     "name": "stdout",
     "output_type": "stream",
     "text": [
      "Input ACF-COS data is 3D (Batch, Channel, Time), trying to spilt the Time dimension into (Patch Length, Patch Number)\n",
      "3 | 20: 0.39\n",
      "Creating permutation tensor at shuffled_index/shuffled_index_random_40_3_03_40.pt, with strategy random, frequency 40, and patch length 3\n"
     ]
    },
    {
     "data": {
      "application/vnd.jupyter.widget-view+json": {
       "model_id": "fec5e1f5a81b45f2954a6b31f37b4663",
       "version_major": 2,
       "version_minor": 0
      },
      "text/plain": [
       "Creating permutation tensor:   0%|          | 0/1000 [00:00<?, ?it/s]"
      ]
     },
     "metadata": {},
     "output_type": "display_data"
    },
    {
     "name": "stdout",
     "output_type": "stream",
     "text": [
      "Input ACF-COS data is 3D (Batch, Channel, Time), trying to spilt the Time dimension into (Patch Length, Patch Number)\n",
      "3 | 40: 0.56\n",
      "Creating permutation tensor at shuffled_index/shuffled_index_random_10_4_03_30.pt, with strategy random, frequency 10, and patch length 4\n"
     ]
    },
    {
     "data": {
      "application/vnd.jupyter.widget-view+json": {
       "model_id": "72490c6b00b242cbaf324c140b0b2826",
       "version_major": 2,
       "version_minor": 0
      },
      "text/plain": [
       "Creating permutation tensor:   0%|          | 0/1000 [00:00<?, ?it/s]"
      ]
     },
     "metadata": {},
     "output_type": "display_data"
    },
    {
     "name": "stdout",
     "output_type": "stream",
     "text": [
      "Input ACF-COS data is 3D (Batch, Channel, Time), trying to spilt the Time dimension into (Patch Length, Patch Number)\n",
      "4 | 10: 0.27\n",
      "Creating permutation tensor at shuffled_index/shuffled_index_random_20_4_03_30.pt, with strategy random, frequency 20, and patch length 4\n"
     ]
    },
    {
     "data": {
      "application/vnd.jupyter.widget-view+json": {
       "model_id": "e0d69a2f60534124b8ae22f1c39dde27",
       "version_major": 2,
       "version_minor": 0
      },
      "text/plain": [
       "Creating permutation tensor:   0%|          | 0/1000 [00:00<?, ?it/s]"
      ]
     },
     "metadata": {},
     "output_type": "display_data"
    },
    {
     "name": "stdout",
     "output_type": "stream",
     "text": [
      "Input ACF-COS data is 3D (Batch, Channel, Time), trying to spilt the Time dimension into (Patch Length, Patch Number)\n",
      "4 | 20: 0.59\n",
      "Creating permutation tensor at shuffled_index/shuffled_index_random_40_4_03_30.pt, with strategy random, frequency 40, and patch length 4\n"
     ]
    },
    {
     "data": {
      "application/vnd.jupyter.widget-view+json": {
       "model_id": "daeed8627d8443848abe58d6100b7dfc",
       "version_major": 2,
       "version_minor": 0
      },
      "text/plain": [
       "Creating permutation tensor:   0%|          | 0/1000 [00:00<?, ?it/s]"
      ]
     },
     "metadata": {},
     "output_type": "display_data"
    },
    {
     "name": "stdout",
     "output_type": "stream",
     "text": [
      "Input ACF-COS data is 3D (Batch, Channel, Time), trying to spilt the Time dimension into (Patch Length, Patch Number)\n",
      "4 | 40: 0.63\n",
      "Creating permutation tensor at shuffled_index/shuffled_index_random_10_6_03_20.pt, with strategy random, frequency 10, and patch length 6\n"
     ]
    },
    {
     "data": {
      "application/vnd.jupyter.widget-view+json": {
       "model_id": "17db561f17b9432bbafa17229a5bdd02",
       "version_major": 2,
       "version_minor": 0
      },
      "text/plain": [
       "Creating permutation tensor:   0%|          | 0/1000 [00:00<?, ?it/s]"
      ]
     },
     "metadata": {},
     "output_type": "display_data"
    },
    {
     "name": "stdout",
     "output_type": "stream",
     "text": [
      "Input ACF-COS data is 3D (Batch, Channel, Time), trying to spilt the Time dimension into (Patch Length, Patch Number)\n",
      "6 | 10: 0.44\n",
      "Creating permutation tensor at shuffled_index/shuffled_index_random_20_6_03_20.pt, with strategy random, frequency 20, and patch length 6\n"
     ]
    },
    {
     "data": {
      "application/vnd.jupyter.widget-view+json": {
       "model_id": "04b5877a60564833a37ae466acd97965",
       "version_major": 2,
       "version_minor": 0
      },
      "text/plain": [
       "Creating permutation tensor:   0%|          | 0/1000 [00:00<?, ?it/s]"
      ]
     },
     "metadata": {},
     "output_type": "display_data"
    },
    {
     "name": "stdout",
     "output_type": "stream",
     "text": [
      "Input ACF-COS data is 3D (Batch, Channel, Time), trying to spilt the Time dimension into (Patch Length, Patch Number)\n",
      "6 | 20: 0.58\n",
      "Creating permutation tensor at shuffled_index/shuffled_index_random_40_6_03_20.pt, with strategy random, frequency 40, and patch length 6\n"
     ]
    },
    {
     "data": {
      "application/vnd.jupyter.widget-view+json": {
       "model_id": "f9b7ef1223a1474fba114d1f7d3834e9",
       "version_major": 2,
       "version_minor": 0
      },
      "text/plain": [
       "Creating permutation tensor:   0%|          | 0/1000 [00:00<?, ?it/s]"
      ]
     },
     "metadata": {},
     "output_type": "display_data"
    },
    {
     "name": "stdout",
     "output_type": "stream",
     "text": [
      "Input ACF-COS data is 3D (Batch, Channel, Time), trying to spilt the Time dimension into (Patch Length, Patch Number)\n",
      "6 | 40: 0.60\n"
     ]
    }
   ],
   "source": [
    "\n",
    "patch_len = [3, 4, 6]\n",
    "permute_freq = [10, 20, 40]\n",
    "\n",
    "combinations = []\n",
    "for p_len in patch_len:\n",
    "    for p_freq in permute_freq:\n",
    "        combinations.append((p_len, p_freq))\n",
    "\n",
    "scores = []\n",
    "\n",
    "for patch_len, permute_freq in combinations:\n",
    "    acf_cos = ACF_COS(\n",
    "        channel_num=num_channels,\n",
    "        original_time_len=seq_len,\n",
    "        patch_len=patch_len,\n",
    "        permute_freq=permute_freq,\n",
    "        device='cuda',\n",
    "        permute_tensor_size=1000\n",
    "    )\n",
    "\n",
    "    score = acf_cos(test_X)\n",
    "\n",
    "    mean = np.mean(score)\n",
    "    std = np.std(score)\n",
    "    mean_acf = np.mean(score)\n",
    "    print(f'{patch_len:d} | {permute_freq:d}: {mean_acf:.2f}')\n",
    "\n",
    "\n",
    "    scores.append(score)"
   ]
  },
  {
   "cell_type": "code",
   "execution_count": null,
   "metadata": {},
   "outputs": [],
   "source": []
  }
 ],
 "metadata": {
  "kernelspec": {
   "display_name": "Python 3",
   "language": "python",
   "name": "python3"
  },
  "language_info": {
   "codemirror_mode": {
    "name": "ipython",
    "version": 3
   },
   "file_extension": ".py",
   "mimetype": "text/x-python",
   "name": "python",
   "nbconvert_exporter": "python",
   "pygments_lexer": "ipython3",
   "version": "3.10.12"
  }
 },
 "nbformat": 4,
 "nbformat_minor": 2
}
