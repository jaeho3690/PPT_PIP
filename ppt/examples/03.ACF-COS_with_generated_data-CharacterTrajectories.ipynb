{
 "cells": [
  {
   "cell_type": "markdown",
   "metadata": {},
   "source": []
  },
  {
   "cell_type": "code",
   "execution_count": 1,
   "metadata": {},
   "outputs": [],
   "source": [
    "import pickle\n",
    "import os\n",
    "import numpy as np\n",
    "import pandas as pd\n",
    "from ppt.metric import ACF_COS"
   ]
  },
  {
   "cell_type": "code",
   "execution_count": 2,
   "metadata": {},
   "outputs": [],
   "source": [
    "patch_len = 3\n",
    "permute_freq = 40\n",
    "\n",
    "original_data = pickle.load(open('./dataset/CharacterTrajectories/test_dict.pkl', 'rb'))\n",
    "permuted_data = pickle.load(open(f'./dataset/CharacterTrajectories/permute_testdata/random_patchlen_{patch_len:03d}_permf_{permute_freq:02d}.pkl', 'rb'))\n",
    "\n",
    "original_data = np.array([value for key, value in original_data.items()])\n",
    "permuted_data = np.array([value for key, value in permuted_data.items()])\n",
    "\n",
    "original_data = original_data.transpose(0, 2, 1)\n",
    "permuted_data = permuted_data.transpose(0, 2, 1)\n",
    "\n",
    "seq_len = original_data.shape[2]\n",
    "channel_num = original_data.shape[1]\n"
   ]
  },
  {
   "cell_type": "code",
   "execution_count": 3,
   "metadata": {},
   "outputs": [
    {
     "name": "stdout",
     "output_type": "stream",
     "text": [
      "Creating permutation tensor at shuffled_index/shuffled_index_random_40_3_03_40.pt, with strategy random, frequency 40, and patch length 3\n"
     ]
    },
    {
     "data": {
      "application/vnd.jupyter.widget-view+json": {
       "model_id": "f9ad53a5d5d04ca6887a8c20706d2af2",
       "version_major": 2,
       "version_minor": 0
      },
      "text/plain": [
       "Creating permutation tensor:   0%|          | 0/1000 [00:00<?, ?it/s]"
      ]
     },
     "metadata": {},
     "output_type": "display_data"
    },
    {
     "name": "stdout",
     "output_type": "stream",
     "text": [
      "[0.62754974 0.33339719 0.53907289 ... 0.76535706 0.40390131 0.06387778]\n"
     ]
    }
   ],
   "source": [
    "\n",
    "metric = ACF_COS(\n",
    "    channel_num=channel_num,\n",
    "    original_time_len=seq_len,\n",
    "    patch_len=patch_len,\n",
    "    permute_freq=permute_freq,\n",
    "    device='cuda',\n",
    "    permute_tensor_size=1000\n",
    ")\n",
    "\n",
    "cos_acf = []\n",
    "cos_acf.append(metric(original_data, permuted_data))\n",
    "    \n",
    "cos_acf = np.array(cos_acf).reshape(-1)\n",
    "print(cos_acf)"
   ]
  },
  {
   "cell_type": "code",
   "execution_count": 4,
   "metadata": {},
   "outputs": [
    {
     "name": "stdout",
     "output_type": "stream",
     "text": [
      "3 | 40: 0.61\n"
     ]
    }
   ],
   "source": [
    "mean = np.mean(cos_acf)\n",
    "std = np.std(cos_acf)\n",
    "mean_acf = np.mean(cos_acf)\n",
    "print(f'{patch_len:d} | {permute_freq:d}: {mean_acf:.2f}')\n"
   ]
  }
 ],
 "metadata": {
  "kernelspec": {
   "display_name": "Python 3",
   "language": "python",
   "name": "python3"
  },
  "language_info": {
   "codemirror_mode": {
    "name": "ipython",
    "version": 3
   },
   "file_extension": ".py",
   "mimetype": "text/x-python",
   "name": "python",
   "nbconvert_exporter": "python",
   "pygments_lexer": "ipython3",
   "version": "3.10.12"
  }
 },
 "nbformat": 4,
 "nbformat_minor": 2
}
